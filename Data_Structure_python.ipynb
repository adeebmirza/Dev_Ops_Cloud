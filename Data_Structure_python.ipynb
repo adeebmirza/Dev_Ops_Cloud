{
  "nbformat": 4,
  "nbformat_minor": 0,
  "metadata": {
    "colab": {
      "provenance": []
    },
    "kernelspec": {
      "name": "python3",
      "display_name": "Python 3"
    },
    "language_info": {
      "name": "python"
    }
  },
  "cells": [
    {
      "cell_type": "code",
      "execution_count": 1,
      "metadata": {
        "colab": {
          "base_uri": "https://localhost:8080/"
        },
        "id": "AQAyAisf8DdP",
        "outputId": "742c8db5-cfe0-4fce-88fb-39f0dc77267a"
      },
      "outputs": [
        {
          "output_type": "stream",
          "name": "stdout",
          "text": [
            "Hello\n"
          ]
        }
      ],
      "source": [
        "'''\n",
        "Q1) Discuss string slicing and provide examples?\n",
        "\n",
        "Ans 1) String slicing is a technique used in programming to extract a specific portion or segment of a string. This is achieved by\n",
        "specifying a range of indices that correspond to the characters you want to extract from the original string.\n",
        "'''\n",
        "text = \"Hello, World!\"\n",
        "print(text[0:5])\n"
      ]
    },
    {
      "cell_type": "code",
      "source": [
        "'''\n",
        "Q2) Explain the key features of lists in Python?\n",
        "\n",
        "Ans 2) The features of lists are :-\n",
        "1. Lists are used to store multiple items in a single variable.\n",
        "2. Lists are one of 4 built-in data types in Python used to store collections of data, the other 3 are Tuple, Set, and\n",
        "Dictionary, all with different qualities and usage.\n",
        "3.Lists are mutable\n",
        "4.List are dyanamically in nature\n",
        "5.In list we can store heterogenous types of data\n",
        "'''\n"
      ],
      "metadata": {
        "id": "v7N-BKTa8Y9T"
      },
      "execution_count": null,
      "outputs": []
    },
    {
      "cell_type": "code",
      "source": [
        "'''\n",
        "Q3) Describe how to access modify and delete elements in a list with examples?\n",
        "\n",
        "Ans 3) We can modify and delete elements in a list like this.\n",
        "'''\n",
        "l = [1,2,3,4,5,6]\n",
        "l.append(7)\n",
        "print(l)\n",
        "l.remove(1)\n",
        "print(l)\n",
        "del l[2]\n",
        "print(l)"
      ],
      "metadata": {
        "colab": {
          "base_uri": "https://localhost:8080/"
        },
        "id": "qhzHWDA-9zOO",
        "outputId": "9b103eca-107c-497f-e63c-c7a83f549c71"
      },
      "execution_count": 1,
      "outputs": [
        {
          "output_type": "stream",
          "name": "stdout",
          "text": [
            "[1, 2, 3, 4, 5, 6, 7]\n",
            "[2, 3, 4, 5, 6, 7]\n",
            "[2, 3, 5, 6, 7]\n"
          ]
        }
      ]
    },
    {
      "cell_type": "code",
      "source": [
        "'''\n",
        "Q 4) Compare and contrast tuples and lists with examples?\n",
        "Ans 4) a) Tuples are immutable and list are mutable\n",
        "b) In tuples we use () paranthsis and in list we use []\n",
        "c) tuples generally takes less memory comapre to lists\n",
        "d) Tuples are faster than lists\n",
        "'''\n",
        "t = (1,2,3,4,5,6)\n",
        "print(t)\n",
        "l = [1,2,3,4,5,6]\n",
        "print(l)"
      ],
      "metadata": {
        "colab": {
          "base_uri": "https://localhost:8080/"
        },
        "id": "xShH97hw_ZLu",
        "outputId": "5c13e4a4-382e-42f8-8b9e-487ff69c5aa5"
      },
      "execution_count": 4,
      "outputs": [
        {
          "output_type": "stream",
          "name": "stdout",
          "text": [
            "(1, 2, 3, 4, 5, 6)\n",
            "[1, 2, 3, 4, 5, 6]\n"
          ]
        }
      ]
    },
    {
      "cell_type": "code",
      "source": [
        "'''\n",
        "Q5) Describe the key features of sets and provide examples of their use?\n",
        "\n",
        "Ans 5) Key features of sets are :-\n",
        "\n",
        "a) sets are unordered collection\n",
        "b)set contains only unique elements\n",
        "c)Sets are mutable\n",
        "d)In seta indexing and slicing is not possible\n",
        "'''\n",
        "s = {1,2,3,4,5,6}\n",
        "s.add(7)\n",
        "print(s)\n",
        "s.pop()\n",
        "print(s)\n",
        "s.remove(2)\n",
        "print(s)"
      ],
      "metadata": {
        "colab": {
          "base_uri": "https://localhost:8080/"
        },
        "id": "N5zTVOI19sba",
        "outputId": "3363109f-3701-4e15-f66a-85a20a11e76d"
      },
      "execution_count": 3,
      "outputs": [
        {
          "output_type": "stream",
          "name": "stdout",
          "text": [
            "{1, 2, 3, 4, 5, 6, 7}\n",
            "{2, 3, 4, 5, 6, 7}\n",
            "{3, 4, 5, 6, 7}\n"
          ]
        }
      ]
    },
    {
      "cell_type": "code",
      "source": [
        "'''\n",
        "Q 6)Discuss the use cases of tuples and sets in Python programming?\n",
        "\n",
        "Ans 6)  Tuples are immutable sequences of Python objects. They are similar to lists but cannot be changed once created.\n",
        "\n",
        "Use Cases:\n",
        "\n",
        "a) Representing immutable data: When you have data that should not be modified, such as coordinates (latitude, longitude), database records,\n",
        "configuration settings, etc.\n",
        "b) Returning multiple values from functions: Tuples are often used to return multiple values from a function.\n",
        "c) As dictionary keys: Tuples can be used as dictionary keys because they are hashable, unlike lists.\n",
        "d) Unpacking values: You can unpack tuples into individual variables using multiple assignment, which is often used in function return values.\n",
        "\n",
        "'''\n",
        "t = (1,2,3,'hello',4,5)\n",
        "print(t)\n"
      ],
      "metadata": {
        "colab": {
          "base_uri": "https://localhost:8080/"
        },
        "id": "-KVeb-2Z_N54",
        "outputId": "84057143-6009-4210-ca16-6f87a9dd033e"
      },
      "execution_count": 5,
      "outputs": [
        {
          "output_type": "stream",
          "name": "stdout",
          "text": [
            "(1, 2, 3, 'hello', 4, 5)\n"
          ]
        }
      ]
    },
    {
      "cell_type": "code",
      "source": [
        "'''\n",
        "Q 7)  Describe how to add, modify and delete items in a dictionary with examples\n",
        "\n",
        "Ans 7) Adding Items: Use direct assignment or update() method.\n",
        "Modifying Items: Use direct assignment or update() method.\n",
        "Deleting Items: Use del statement, pop() method, popitem() method, or clear() method\n",
        "'''\n",
        "my_dict = {\"name\": \"Alice\", \"age\": 25}\n",
        "my_dict[\"city\"] = \"New York\"\n",
        "print(my_dict)\n",
        "my_dict.update({\"job\": \"Engineer\"})\n",
        "print(my_dict)\n",
        "del my_dict[\"city\"]\n",
        "print(my_dict)\n"
      ],
      "metadata": {
        "colab": {
          "base_uri": "https://localhost:8080/"
        },
        "id": "fOnKH7LyCz4v",
        "outputId": "9731e0d5-d042-4983-c07e-9000bbde7962"
      },
      "execution_count": 7,
      "outputs": [
        {
          "output_type": "stream",
          "name": "stdout",
          "text": [
            "{'name': 'Alice', 'age': 25, 'city': 'New York'}\n",
            "{'name': 'Alice', 'age': 25, 'city': 'New York', 'job': 'Engineer'}\n",
            "{'name': 'Alice', 'age': 25, 'job': 'Engineer'}\n"
          ]
        }
      ]
    },
    {
      "cell_type": "code",
      "source": [
        "'''\n",
        "Q 8)  Discuss the importance of dictionary keys being immitable and provide examples\n",
        "\n",
        "Ans 8) In Python, dictionary keys must be immutable. This requirement is crucial for several reasons:\n",
        "\n",
        "Hashing Requirement:Dictionaries use a hash table to store key-value pairs. For the hash table to work correctly, keys must be hashable, and only immutable objects\n",
        "can be reliably hashed. Hashing relies on the key's value remaining constant over time, ensuring that the key can always be located within the\n",
        "hash table.\n",
        "Consistency and Reliability:If keys could change, the integrity of the dictionary's structure would be compromised. The hash of a mutable\n",
        "object can change if its content changes, leading to unpredictable behavior when trying to retrieve or store values in the dictionary.\n",
        "Performance:\n",
        "\n",
        "Immutable keys ensure efficient lookups, insertions, and deletions. The stability provided by immutable keys allows the hash table to operate\n",
        "at optimal performance without needing to constantly adjust for changes in key values.\n",
        "'''\n",
        "my_dict = {\"name\": \"Alice\", \"age\": 25}\n",
        "my_dict[\"city\"] = \"New York\"\n",
        "print(my_dict)\n",
        "my_dict.update({\"job\": \"Engineer\"})\n",
        "print(my_dict)\n",
        "del my_dict[\"city\"]\n",
        "print(my_dict)\n",
        "\n"
      ],
      "metadata": {
        "id": "1CTruxw1FDY1"
      },
      "execution_count": null,
      "outputs": []
    }
  ]
}