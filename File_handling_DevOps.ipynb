{
  "nbformat": 4,
  "nbformat_minor": 0,
  "metadata": {
    "colab": {
      "provenance": []
    },
    "kernelspec": {
      "name": "python3",
      "display_name": "Python 3"
    },
    "language_info": {
      "name": "python"
    }
  },
  "cells": [
    {
      "cell_type": "code",
      "execution_count": 4,
      "metadata": {
        "id": "fLqUL3aZTIcF"
      },
      "outputs": [],
      "source": [
        "# Q1) Create new text file and write a few lines of text into it\n",
        "\n",
        "file_name = 'sample.txt'\n",
        "\n",
        "content = \"\"\"Hello there!\n",
        "This is a sample text file created using Python.\n",
        "Have a great day!\"\"\"\n",
        "\n",
        "with open(file_name, 'w') as file:\n",
        "    file.write(content)\n"
      ]
    },
    {
      "cell_type": "code",
      "source": [
        "# Q2) Open and Read the contents of the file you just created\n",
        "with open(file_name, 'r') as file:\n",
        "    file_contents = file.read()\n",
        "\n",
        "file_contents\n"
      ],
      "metadata": {
        "colab": {
          "base_uri": "https://localhost:8080/",
          "height": 35
        },
        "id": "hXRwcGNkTh4s",
        "outputId": "78a66bf9-f02a-4573-c171-b2788949d23b"
      },
      "execution_count": 5,
      "outputs": [
        {
          "output_type": "execute_result",
          "data": {
            "text/plain": [
              "'Hello there!\\nThis is a sample text file created using Python.\\nHave a great day!'"
            ],
            "application/vnd.google.colaboratory.intrinsic+json": {
              "type": "string"
            }
          },
          "metadata": {},
          "execution_count": 5
        }
      ]
    },
    {
      "cell_type": "code",
      "source": [
        "# Q3) Add additional text to the existing file without deleting the current content\n",
        "\n",
        "new_content = \"\\nThis line has been added later as an update.\"\n",
        "\n",
        "with open(file_name, 'a') as file:\n",
        "    file.write(new_content)\n",
        "\n"
      ],
      "metadata": {
        "id": "fMMnV5IlUDIX"
      },
      "execution_count": 7,
      "outputs": []
    },
    {
      "cell_type": "code",
      "source": [
        "# Q4) Read and print each line from the file one by one\n",
        "\n",
        "with open(file_name, 'r') as file:\n",
        "    for line in file:\n",
        "        print(line.strip())\n"
      ],
      "metadata": {
        "colab": {
          "base_uri": "https://localhost:8080/"
        },
        "id": "ZXYZZBbBUgk3",
        "outputId": "22aa0e34-929d-44d5-d8f5-9c6b8d4a7dab"
      },
      "execution_count": 8,
      "outputs": [
        {
          "output_type": "stream",
          "name": "stdout",
          "text": [
            "Hello there!\n",
            "This is a sample text file created using Python.\n",
            "Have a great day!\n",
            "This line has been added later as an update.\n",
            "This line has been added later as an update.\n"
          ]
        }
      ]
    },
    {
      "cell_type": "code",
      "source": [
        "# Q5) Write the contents of a list to a file with each item on a new line\n",
        "\n",
        "sample_list = [\"Apple\", \"Banana\", \"Cherry\", \"Date\", \"Elderberry\"]\n",
        "\n",
        "list_file = 'list_contents.txt'\n",
        "\n",
        "with open(list_file, 'w') as file:\n",
        "    for item in sample_list:\n",
        "        file.write(item + '\\n')\n",
        "\n"
      ],
      "metadata": {
        "id": "snYXSA2GU6eN"
      },
      "execution_count": 10,
      "outputs": []
    },
    {
      "cell_type": "code",
      "source": [
        "# Q6)\n",
        "\n",
        "with open('list_contents.txt', 'r') as file:\n",
        "    lines = file.readlines()\n",
        "\n",
        "lines = [line.strip() for line in lines]\n",
        "\n",
        "print(lines)\n"
      ],
      "metadata": {
        "colab": {
          "base_uri": "https://localhost:8080/"
        },
        "id": "ony_HPzJVsdp",
        "outputId": "0f772936-ab46-49dc-ebd6-c678bc172bc1"
      },
      "execution_count": 16,
      "outputs": [
        {
          "output_type": "stream",
          "name": "stdout",
          "text": [
            "['Apple', 'Banana', 'Cherry', 'Date', 'Elderberry']\n"
          ]
        }
      ]
    },
    {
      "cell_type": "code",
      "source": [
        "# Q7) Count the total number of words in the file\n",
        "\n",
        "with open('sample.txt', 'r') as file:\n",
        "    content = file.read()\n",
        "\n",
        "words = content.split()\n",
        "\n",
        "word_count = len(words)\n",
        "\n",
        "print(f\"Total number of words: {word_count}\")\n"
      ],
      "metadata": {
        "colab": {
          "base_uri": "https://localhost:8080/"
        },
        "id": "USpb3n7GWL3X",
        "outputId": "696a0936-0b37-4599-ed6f-6b48a89cfd05"
      },
      "execution_count": 17,
      "outputs": [
        {
          "output_type": "stream",
          "name": "stdout",
          "text": [
            "Total number of words: 33\n"
          ]
        }
      ]
    },
    {
      "cell_type": "code",
      "source": [
        "# Q8) Copy the contents of one file to another file\n",
        "\n",
        "source_file = 'sample.txt'\n",
        "destination_file = 'destination.txt'\n",
        "\n",
        "with open(source_file, 'r') as src:\n",
        "    content = src.read()\n",
        "\n",
        "with open(destination_file, 'w') as dest:\n",
        "    dest.write(content)\n"
      ],
      "metadata": {
        "id": "hepq1OVuXLmK"
      },
      "execution_count": 19,
      "outputs": []
    },
    {
      "cell_type": "code",
      "source": [
        "# Q9) Check if a file exists before attempting to read it\n",
        "\n",
        "import os\n",
        "\n",
        "file_path = 'sample.txt'\n",
        "\n",
        "if os.path.exists(file_path):\n",
        "    print(f\"The file {file_path} exists.\")\n",
        "    with open(file_path, 'r') as file:\n",
        "        content = file.read()\n",
        "    print(\"File content:\")\n",
        "    print(content)\n",
        "else:\n",
        "    print(f\"The file {file_path} does not exist.\")\n"
      ],
      "metadata": {
        "colab": {
          "base_uri": "https://localhost:8080/"
        },
        "id": "dCLkYnMkXs7M",
        "outputId": "0044f1e3-0c5d-410c-9feb-1b1f03492cba"
      },
      "execution_count": 22,
      "outputs": [
        {
          "output_type": "stream",
          "name": "stdout",
          "text": [
            "The file sample.txt exists.\n",
            "File content:\n",
            "Hello there!\n",
            "This is a sample text file created using Python.\n",
            "Have a great day!\n",
            "This line has been added later as an update.\n",
            "This line has been added later as an update.\n"
          ]
        }
      ]
    },
    {
      "cell_type": "code",
      "source": [
        "#  Q10) Delete a file using Python\n",
        "\n",
        "import os\n",
        "\n",
        "file_path = 'sample.txt'\n",
        "\n",
        "if os.path.exists(file_path):\n",
        "    os.remove(file_path)\n",
        "    print(f\"The file {file_path} has been deleted.\")\n",
        "else:\n",
        "    print(f\"The file {file_path} does not exist.\")\n"
      ],
      "metadata": {
        "colab": {
          "base_uri": "https://localhost:8080/"
        },
        "id": "w4urgC50YWuK",
        "outputId": "a721d771-0ee7-46aa-c9f4-1a222e1e17e7"
      },
      "execution_count": 23,
      "outputs": [
        {
          "output_type": "stream",
          "name": "stdout",
          "text": [
            "The file sample.txt has been deleted.\n"
          ]
        }
      ]
    },
    {
      "cell_type": "code",
      "source": [],
      "metadata": {
        "id": "CS3krSbPZNhv"
      },
      "execution_count": null,
      "outputs": []
    }
  ]
}