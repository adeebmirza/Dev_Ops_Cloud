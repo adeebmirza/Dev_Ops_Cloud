{
  "nbformat": 4,
  "nbformat_minor": 0,
  "metadata": {
    "colab": {
      "provenance": []
    },
    "kernelspec": {
      "name": "python3",
      "display_name": "Python 3"
    },
    "language_info": {
      "name": "python"
    }
  },
  "cells": [
    {
      "cell_type": "code",
      "execution_count": null,
      "metadata": {
        "id": "g_Mp8MmIwE3F"
      },
      "outputs": [],
      "source": [
        "'''\n",
        "Q1) Explain the key features of Python that make it a popular choice for programming ?\n",
        "\n",
        "Ans 1) The python is popular and choice of programming due to its easy syntax and open source, python has very large number pf libraries and\n",
        "frameworks. Python is a open source programming language and its a high level programming language that makes it more user-freindly.\n",
        "'''"
      ]
    },
    {
      "cell_type": "code",
      "source": [
        "'''\n",
        "Q2) Describe the role of predefined keywords in Python and provide examples of how they are used in a program.\n",
        "\n",
        "Ans 2) The keywords are also knowns as reseved keywords.These keywords have specific meanings and purposes within the language's syntax and\n",
        "cannot be used as identifiers (such as variable names, function names, or other identifiers). They are essential for defining\n",
        " the structure and behavior of Python programs.\n",
        "\n",
        " ex - for,while,break,if,elif and else etc\n",
        "'''"
      ],
      "metadata": {
        "id": "ABoEj7z_wu84"
      },
      "execution_count": null,
      "outputs": []
    },
    {
      "cell_type": "code",
      "source": [
        "'''\n",
        "Q3) Compare and contrast mutable and immutable objects in Python with examples?\n",
        "\n",
        "Ans 3)In Python, objects are classified into two categories based on whether their state can be modified after they are created: mutable\n",
        "and immutable objects. Here’s a detailed comparison and contrast of these two types of objects, along with examples:\n",
        "\n",
        "example of mutable - list, dictionary, set\n",
        "example of immutable - int, float, string, tuple\n",
        "'''\n",
        "list = [1,2,3,]\n",
        "dict = {1:2,3:4}\n",
        "set = {1,2,3}\n",
        "\n",
        "tup=(1,2,3)"
      ],
      "metadata": {
        "id": "-R8H1X7mxjpi"
      },
      "execution_count": 1,
      "outputs": []
    },
    {
      "cell_type": "code",
      "source": [
        "'''\n",
        "Q4) Discuss the diffe$ent types of operators in Python and provide examples of how they are used ?\n",
        "\n",
        "Ans 4) In Python, operators are special symbols used to perform operations on variables and values. Python supports a wide range of\n",
        "operators, which can be categorized into several types:\n",
        "ex - arithmetic operators, assignment operators, comparison operators, logical operators, membership operators, and identity operators.\n",
        "'''\n",
        "a =5\n",
        "b= 6\n",
        "print(a+b)\n",
        "print(a-b)\n",
        "print(a*b)\n",
        "print(a/b)\n",
        "print(a%b)\n",
        "print(a**b)\n",
        "print(a//b)"
      ],
      "metadata": {
        "colab": {
          "base_uri": "https://localhost:8080/"
        },
        "id": "DzO5Bfkbygpe",
        "outputId": "e322b348-8880-44ef-f2f0-9851422f89c4"
      },
      "execution_count": 2,
      "outputs": [
        {
          "output_type": "stream",
          "name": "stdout",
          "text": [
            "11\n",
            "-1\n",
            "30\n",
            "0.8333333333333334\n",
            "5\n",
            "15625\n",
            "0\n"
          ]
        }
      ]
    },
    {
      "cell_type": "code",
      "source": [
        "'''\n",
        "Q5) Explain the concept of type casting in Python with examples?\n",
        "\n",
        "Ans 5) Type casting in Python refers to the process of converting one data type into another. This is useful when you need to perform operations that require a specific data type or when you need to ensure that data is in the correct format. Python provides several built-in functions to facilitate type casting.\n",
        "\n",
        "Types of Type Casting\n",
        "1-Implicit Type Casting\n",
        "2-Explicit Type Casting\n",
        "1. Implicit Type Casting-Implicit type casting is performed automatically by Python. In this type of casting, Python converts data from one\n",
        " type to another without any explicit instruction from the programmer.\n",
        "2. Explicit Type Casting\n",
        "Explicit type casting is when the programmer manually converts one data type to another using Python's built-in functions. These functions\n",
        "include int(), float(), str(), list(), tuple(), set(), etc.\n",
        "'''\n",
        "#example of implicit\n",
        "x = 8\n",
        "y = 8.8\n",
        "res= x+y\n",
        "print(res)\n",
        "\n",
        "#example of explicit\n",
        "\n",
        "z= 6\n",
        "w = float(z)\n",
        "print(w)"
      ],
      "metadata": {
        "colab": {
          "base_uri": "https://localhost:8080/"
        },
        "id": "wmTQmTtJQ2Dc",
        "outputId": "16852683-047d-40d6-ab71-cbb9accc04d0"
      },
      "execution_count": 2,
      "outputs": [
        {
          "output_type": "stream",
          "name": "stdout",
          "text": [
            "16.8\n",
            "6.0\n"
          ]
        }
      ]
    },
    {
      "cell_type": "code",
      "source": [
        "'''\n",
        "Q6) How do conditional statetments work in Python? Illustrate with examples?\n",
        "\n",
        "Ans 6) Conditional statements in Python allow you to execute specific blocks of code based on whether a condition is true or false.\n",
        "The most common conditional statements are if, elif, and else.\n",
        "\n",
        "when the condition is true then the if block will execute\n",
        "when the condition is false then else block will execute\n",
        "In the case of elif multiple condition will be there if coditions matches with elif then elif block will execute\n",
        "'''\n",
        "\n",
        "age = 20\n",
        "\n",
        "if age >=18:\n",
        "  print(\"You are adult\")\n",
        "elif age >=13:\n",
        "  print(\"You are teenager\")\n",
        "else:\n",
        "  print(\"You are child\")\n"
      ],
      "metadata": {
        "colab": {
          "base_uri": "https://localhost:8080/"
        },
        "id": "-wwLgOALRrlh",
        "outputId": "2c276e5d-ae24-42b9-f5ff-1ab0024b4792"
      },
      "execution_count": 3,
      "outputs": [
        {
          "output_type": "stream",
          "name": "stdout",
          "text": [
            "You are adult\n"
          ]
        }
      ]
    },
    {
      "cell_type": "code",
      "source": [
        "'''\n",
        "Q7) Describe the different types of loops in Python and their use cases with examples.\n",
        "\n",
        "Ans 7) In Python, there are primarily two types of loops: for loops and while loops. Both are used to execute a block of\n",
        "code repeatedly, but they differ in their usage and behavior.\n",
        "1-for loop\n",
        "2-while loop\n",
        "'''\n",
        "# example of for loop\n",
        "\n",
        "for i in range(1,11):\n",
        "  print(i)\n",
        "\n",
        "#example of while loop\n",
        "\n",
        "i = 1\n",
        "while i<=10:\n",
        "  print(i)\n",
        "  i+=1"
      ],
      "metadata": {
        "colab": {
          "base_uri": "https://localhost:8080/"
        },
        "id": "hcAlQngMTMLG",
        "outputId": "25bf9b57-f008-430f-8446-00597f7dcfe2"
      },
      "execution_count": 5,
      "outputs": [
        {
          "output_type": "stream",
          "name": "stdout",
          "text": [
            "1\n",
            "2\n",
            "3\n",
            "4\n",
            "5\n",
            "6\n",
            "7\n",
            "8\n",
            "9\n",
            "10\n",
            "1\n",
            "2\n",
            "3\n",
            "4\n",
            "5\n",
            "6\n",
            "7\n",
            "8\n",
            "9\n",
            "10\n"
          ]
        }
      ]
    },
    {
      "cell_type": "code",
      "source": [],
      "metadata": {
        "id": "PmFggCMYUAMp"
      },
      "execution_count": null,
      "outputs": []
    }
  ]
}