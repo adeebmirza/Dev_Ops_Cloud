{
  "nbformat": 4,
  "nbformat_minor": 0,
  "metadata": {
    "colab": {
      "provenance": []
    },
    "kernelspec": {
      "name": "python3",
      "display_name": "Python 3"
    },
    "language_info": {
      "name": "python"
    }
  },
  "cells": [
    {
      "cell_type": "code",
      "source": [
        "'''\n",
        "\n",
        "Q1) What is Python?\n",
        "\n",
        "Ans) Python is a OOP(Object Oreinted Programming) language. It is a interpreted and its a high level language.Python is a\n",
        "      dynamic language. It is a open source programming language.\n",
        "\n",
        "'''"
      ],
      "metadata": {
        "id": "M9uM6_P5Urzs"
      },
      "execution_count": null,
      "outputs": []
    },
    {
      "cell_type": "code",
      "source": [
        "'''\n",
        "Q2) What are the built-in data types in Python?\n",
        "\n",
        "Ans) There are various data types in the Python are :-\n",
        "    1. int - int data types contains integer value ex= 1,2,3,-1,-2,-3 etc\n",
        "    2. float - float contains decimal point values ex= 1.1,2.2,3.3 etc\n",
        "    3. complex - complex number contains values  ex= 1+2j,2+3j etc\n",
        "    4. str - str is a string data type that contains character values. ex = \"hello\"\n",
        "    5. list - list are declared by [] squre brackets in the list we can store any data types in the list.List is mutable.\n",
        "    6. tuple - tuple declare by () paranthesis in the tuple we can store any data types in the tuple,but tuple is immutable.\n",
        "    7. dict - dict declare by {} curly brackets in the dict we can store any data in the key : value pair, dictinary is also mutable.\n",
        "\n",
        "    '''"
      ],
      "metadata": {
        "id": "jW44Qnw2Zjm6"
      },
      "execution_count": null,
      "outputs": []
    },
    {
      "cell_type": "code",
      "source": [
        "#Q3) You are given a list of numerical values representing the daily sales of a store for a week. Write a Python\n",
        "#program to perform the following tasks using various Python operators\n",
        " #Use the following data for your program\n",
        " #daily_sales = [150, 200, 180, 220, 170, 190, 210]\n",
        "\n",
        "# Calculate the total sales for the week.)\n",
        "daily_sales = [150, 200, 180, 220, 170, 190, 210]\n",
        "total_sales = sum(daily_sales)\n",
        "print(f\"Total sales for the week: {total_sales}\")\n",
        "\n",
        "#Calculate the average sales per day.\n",
        "\n",
        "average_sales = total_sales / len(daily_sales)\n",
        "print(f\"Average sales per day: {average_sales}\")\n",
        "\n",
        "#Identify the day with the highest sales and print the sales amount.\n",
        "\n",
        "max_sales = max(daily_sales)\n",
        "max_day = daily_sales.index(max_sales)\n",
        "print(f\"Day with the highest sales: {max_sales} and it is on day {max_day}\")\n",
        "\n",
        "# Determine the days where the sales were a1ove the average sales.\n",
        "\n",
        "above_average = [sales for sales in daily_sales if sales > average_sales]\n",
        "print(f\"Days where sales were above the average: {above_average}\")\n",
        "\n",
        "# Increase the sales amount of each day by 10% and print the updated sales list.\n",
        "\n",
        "updated_sales = [sales * 1.1 for sales in daily_sales]\n",
        "new_updated_sales = [int(x) for x in updated_sales]\n",
        "print(f\"Updated sales list: {new_updated_sales}\")"
      ],
      "metadata": {
        "colab": {
          "base_uri": "https://localhost:8080/"
        },
        "id": "KkINrCSfZjpp",
        "outputId": "fc75bc92-1847-4c1e-b4f5-98d59196c573"
      },
      "execution_count": null,
      "outputs": [
        {
          "output_type": "stream",
          "name": "stdout",
          "text": [
            "Total sales for the week: 1320\n",
            "Average sales per day: 188.57142857142858\n",
            "Day with the highest sales: 220 and it is on day 3\n",
            "Days where sales were above the average: [200, 220, 190, 210]\n",
            "Updated sales list: [165, 220, 198, 242, 187, 209, 231]\n"
          ]
        }
      ]
    },
    {
      "cell_type": "code",
      "source": [
        "#4. You are given a list of integers representing the scores of students in a class. Write a Python program to\n",
        "#perform the following tasks using loops\n",
        "#Use the following data for your program\n",
        "#scores = [75, 88, 92, 67, 85, 94, 73, 81, 78, 90]\n",
        "scores = [75,88,92,67,85,94,73,81,78,91]\n",
        "\n",
        "#Calculate the total score of the class\n",
        "total = 0\n",
        "for score in scores:\n",
        "  total = total+score\n",
        "\n",
        "print(total)\n",
        "\n",
        "#Calculate the average score of the class\n",
        "\n",
        "avg = 0\n",
        "\n",
        "for score in scores:\n",
        "  avg = total/len(scores)\n",
        "print(avg)\n",
        "\n",
        "#Find the highest score in the class\n",
        "highest = 0\n",
        "for score in scores:\n",
        "  if score > highest:\n",
        "    highest = score\n",
        "print(highest)\n",
        "\n",
        "#Count how many students scored a1ove the average score\n",
        "count = 0\n",
        "for score in scores:\n",
        "  if score > avg:\n",
        "    count = count + 1\n",
        "print(count)\n",
        "\n",
        "#Print a list of scores in ascending order.\n",
        "\n",
        "sort_scores = sorted(scores)\n",
        "print(sort_scores)\n"
      ],
      "metadata": {
        "colab": {
          "base_uri": "https://localhost:8080/"
        },
        "id": "Gc0A_07EZjrV",
        "outputId": "88ffaa85-16b3-4fd7-e509-095fde1036ed"
      },
      "execution_count": 10,
      "outputs": [
        {
          "output_type": "stream",
          "name": "stdout",
          "text": [
            "824\n",
            "82.4\n",
            "94\n",
            "5\n",
            "[67, 73, 75, 78, 81, 85, 88, 91, 92, 94]\n"
          ]
        }
      ]
    },
    {
      "cell_type": "code",
      "source": [
        "#Q5. Write a Python program to find the sum of all items in the dictionary.\n",
        "\n",
        "#Examples:\n",
        "\n",
        " #    Input = {‘a’ : D00, ‘1’:200, ‘c’:300}\n",
        "  #  Output = 600\n",
        "dict = {'a' : 100, '1':200, 'c':300}\n",
        "sum_dict = sum(dict.values())\n",
        "print(sum_dict)"
      ],
      "metadata": {
        "id": "27qdiWP4ZjvD",
        "colab": {
          "base_uri": "https://localhost:8080/"
        },
        "outputId": "b106f7aa-ad04-4bce-d76b-91d4332ca042"
      },
      "execution_count": 11,
      "outputs": [
        {
          "output_type": "stream",
          "name": "stdout",
          "text": [
            "600\n"
          ]
        }
      ]
    },
    {
      "cell_type": "code",
      "source": [
        "'''\n",
        "Q6) You are developing a simple budget tracking application. Write a Python program to perform the following\n",
        "tasks using variables\n",
        " Initialize varia1les to store your monthly income and expenses for rent, groceries, utilities, transportation,\n",
        "and entertainmentA\n",
        " Calculate and print the total monthly expenses\n",
        " Calculate and print the remaining balance after all expenses\n",
        " If the remaining balance is positive, save 50% of it to a savings account. If it's negative, print a warning message.\n",
        " Print the final savings amount.\n",
        "\n",
        "Use the following data for your program\n",
        " Monthly Income: $5000\n",
        " Rent: $1500\n",
        " Groceries: $600\n",
        " Utilities: $200\n",
        " Transportation: $300\n",
        " Entertainment: $400\n",
        "\n",
        "'''\n",
        "\n",
        "Monthly_Income= 5000\n",
        "Rent= 1500\n",
        "Groceries= 600\n",
        "Utilities= 200\n",
        "Transportation= 300\n",
        "Entertainment= 400\n",
        "saving_account = 0\n",
        "sum_expense = Rent + Groceries + Utilities + Transportation + Entertainment\n",
        "remaining_bal = Monthly_Income - sum_expense\n",
        "print(\"the monthly income is :\",Monthly_Income)\n",
        "print(\"The total monthly expense is :\",sum_expense)\n",
        "print(\"the remainig the balance is :\",remaining_bal)\n",
        "\n",
        "if remaining_bal>0:\n",
        "  saving_account = remaining_bal/2\n",
        "else:\n",
        "  print(\"warning you are in negative\")\n",
        "\n",
        "print(\"the final savings balance is :\",saving_account)"
      ],
      "metadata": {
        "colab": {
          "base_uri": "https://localhost:8080/"
        },
        "id": "aDr6kVB7Wbj1",
        "outputId": "7188eb4a-f4e7-4379-f0ff-350b78ee8b63"
      },
      "execution_count": 20,
      "outputs": [
        {
          "output_type": "stream",
          "name": "stdout",
          "text": [
            "the monthly income is : 5000\n",
            "The total monthly expense is : 3000\n",
            "the remainig the balance is : 2000\n",
            "the final savings balance is : 1000.0\n"
          ]
        }
      ]
    },
    {
      "cell_type": "code",
      "source": [
        "'''\n",
        "Q7)  What is a 4unction in Python, and why is it used?\n",
        "\n",
        "Ans) A function in python is a block of code that performs specific task, it may take 0 or more inputs and it may return a value\n",
        "    print the values. Functions are reusable and it can be use anywhere in the whole program.\n",
        "\n",
        "    The use of the function is the reusability that the programmer need to write only once and it can be use anywhere in the\n",
        "    program by the name(a function in the python have unique that gives by the user)\n",
        "'''"
      ],
      "metadata": {
        "id": "FDxpcPHcS3XX"
      },
      "execution_count": null,
      "outputs": []
    },
    {
      "cell_type": "code",
      "source": [
        "#8. Write a function is_even that takes an integer as input and returns True if the number is even, otherwise\n",
        "#returns False.\n",
        "\n",
        "def even_odd(num):\n",
        "  if num%2==0:\n",
        "    return True\n",
        "  elif num%2!=0:\n",
        "    return False\n",
        "  else:\n",
        "    return \"Enter a valid number\"\n",
        "\n",
        "num = int(input(\"please enter the number to check its even or odd\"))\n",
        "print(f\"The number is \",even_odd(num))"
      ],
      "metadata": {
        "colab": {
          "base_uri": "https://localhost:8080/"
        },
        "id": "NBK2fCVtU0qK",
        "outputId": "f989c804-fca7-49d2-f2bd-d6313078f932"
      },
      "execution_count": 16,
      "outputs": [
        {
          "output_type": "stream",
          "name": "stdout",
          "text": [
            "please enter the number to check its even or odd56\n",
            "The number is  True\n"
          ]
        }
      ]
    }
  ]
}