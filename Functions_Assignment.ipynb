{
  "nbformat": 4,
  "nbformat_minor": 0,
  "metadata": {
    "colab": {
      "provenance": []
    },
    "kernelspec": {
      "name": "python3",
      "display_name": "Python 3"
    },
    "language_info": {
      "name": "python"
    }
  },
  "cells": [
    {
      "cell_type": "code",
      "execution_count": 9,
      "metadata": {
        "colab": {
          "base_uri": "https://localhost:8080/"
        },
        "id": "ueF1bd2G65iS",
        "outputId": "8e935f59-215c-48d2-a34f-2d23706e46e1"
      },
      "outputs": [
        {
          "output_type": "stream",
          "name": "stdout",
          "text": [
            "5\n"
          ]
        },
        {
          "output_type": "execute_result",
          "data": {
            "text/plain": [
              "1"
            ]
          },
          "metadata": {},
          "execution_count": 9
        }
      ],
      "source": [
        "'''\n",
        "Q 1) What is the difference between a function and a method in Python?\n",
        "\n",
        "Ans) The function is a self bound it is not bound by the other objects whereas the method is bound to the objects.\n",
        "method is bound with thw class or object\n",
        "let see the example of both\n",
        "'''\n",
        "\n",
        "def add(a,b):  # this is function\n",
        "    return a+b\n",
        "\n",
        "class Calc:   # this is class\n",
        "  def __init__(self,a,b):   # this is method and this is bound with calc class\n",
        "    self.a=a\n",
        "    self.b=b\n",
        "  def sub(self):\n",
        "    return self.a-self.b\n",
        "print(add(2,3))   # we can call function directly\n",
        "c=Calc(3,2)    # for method calling we have to create instance of the class\n",
        "c.sub()    # calling method through the class object"
      ]
    },
    {
      "cell_type": "code",
      "source": [
        "'''\n",
        "Q 2) 2. Explain the concept of function arguments and parameters in Python.\n",
        "\n",
        "Ans) When we are making funcyion at that we have to set the how many  parameter we  want in the function according to that we have to\n",
        "give the value, while in the arguments while we are calling the function we have to put the arguments to pass in the parameter\n",
        "'''\n",
        "\n",
        "def greet(name):  # this is parameter in the function\n",
        "  print(f\"Hello {name}\")\n",
        "\n",
        "greet(\"Adeeb\")\n"
      ],
      "metadata": {
        "colab": {
          "base_uri": "https://localhost:8080/"
        },
        "id": "87kc5aIs7uTf",
        "outputId": "88817d93-c52a-4cc9-c8e3-183866e20afb"
      },
      "execution_count": 10,
      "outputs": [
        {
          "output_type": "stream",
          "name": "stdout",
          "text": [
            "Hello Adeeb\n"
          ]
        }
      ]
    },
    {
      "cell_type": "code",
      "source": [
        "'''\n",
        "Q 3) What are the different ways to define and call a function in Python?\n",
        "\n",
        "Ans) There are many ways to call and define the function\n",
        "lets discuss through the programming\n",
        "'''\n",
        "\n",
        "#method 1\n",
        "\n",
        "def  func_method_1():\n",
        "  pass\n",
        "\n",
        "#method 2 we can make nested funnction\n",
        "def outer():\n",
        "  def inner():\n",
        "    pass\n",
        "\n",
        "# method 3 lambda function\n",
        "\n",
        "double = lambda x: x * 2\n",
        "\n",
        "print(double(5))\n",
        "\n",
        "#Methods of calling\n",
        "\n",
        "#1\n",
        "func_method_1()  #simple way\n",
        "\n",
        "#2\n",
        " #map(function_name, iterable)  # using map\n",
        "\n",
        "#3\n",
        "#filter(function_name, iterable)  # using filter\n",
        "\n",
        "#4\n",
        "#reduce(function_name, iterable)  # using reduce\n"
      ],
      "metadata": {
        "colab": {
          "base_uri": "https://localhost:8080/"
        },
        "id": "T4SA7BZD9kZc",
        "outputId": "639b773c-205f-43e5-da5e-e992da0e25ae"
      },
      "execution_count": 12,
      "outputs": [
        {
          "output_type": "stream",
          "name": "stdout",
          "text": [
            "10\n"
          ]
        }
      ]
    },
    {
      "cell_type": "code",
      "source": [
        "'''\n",
        "Q 4) What is the purpose of the `return` statement in a Python function?\n",
        "\n",
        "Ans) The purpose of the return statement is to return the value from the function. It is used to end the execution of the function and return\n",
        " the result to the caller. by using return we can store that value outside the function\n",
        "'''"
      ],
      "metadata": {
        "id": "NaSAPeAu_S9m"
      },
      "execution_count": null,
      "outputs": []
    },
    {
      "cell_type": "code",
      "source": [
        "'''\n",
        "Q 5) What are iterators in Python and how do they differ from iterables?\n",
        "\n",
        "Ans) The key difference between the two is that iterables can be iterated over multiple times, while iterators can only be used once.\n",
        "When you exhaust an iterator, you need to create a new one to iterate again. Iterables, however, can be iterated over repeatedly without\n",
        "needing to create a new object. For example, you can iterate over a list multiple times using a for loop, but if you use the iter() function\n",
        "to create an iterator object, it can only be iterated over once.\n",
        "'''\n",
        "\n",
        "my_list = [1, 2, 3]  # iterable\n",
        "my_iter = iter(my_list)  # iterator\n",
        "\n",
        "print(next(my_iter))\n",
        "print(next(my_iter))\n",
        "print(next(my_iter))"
      ],
      "metadata": {
        "colab": {
          "base_uri": "https://localhost:8080/"
        },
        "id": "5MeFyj2s_0jj",
        "outputId": "62c9b8d4-abc6-4765-e79c-8eccfd88cf46"
      },
      "execution_count": 14,
      "outputs": [
        {
          "output_type": "stream",
          "name": "stdout",
          "text": [
            "1\n",
            "2\n",
            "3\n"
          ]
        }
      ]
    },
    {
      "cell_type": "code",
      "source": [
        "'''\n",
        "Q 6) Explain the concept of generators in Python and how they are defined.\n",
        "\n",
        "Ans)Generators in Python are a type of iterable, like lists or tuples, but unlike those, generators do not store all of their values in memory.\n",
        " Instead, they generate values on the fly and can be iterated through one value at a time, which makes them more memory-efficient for handling\n",
        " large datasets.\n",
        "'''\n",
        "def infinite_sequence():\n",
        "    num = 0\n",
        "    while True:\n",
        "        yield num\n",
        "        num += 1\n",
        "\n",
        "seq = infinite_sequence()\n",
        "for _ in range(10):\n",
        "    print(next(seq))"
      ],
      "metadata": {
        "colab": {
          "base_uri": "https://localhost:8080/"
        },
        "id": "5l5zapd3AoZb",
        "outputId": "c253ce17-0116-4370-c627-1a6646b2aec4"
      },
      "execution_count": 15,
      "outputs": [
        {
          "output_type": "stream",
          "name": "stdout",
          "text": [
            "0\n",
            "1\n",
            "2\n",
            "3\n",
            "4\n",
            "5\n",
            "6\n",
            "7\n",
            "8\n",
            "9\n"
          ]
        }
      ]
    },
    {
      "cell_type": "code",
      "source": [
        "'''\n",
        "Q 7) What are the advantages of using generators over regular functions?\n",
        "\n",
        "Ans) The generatres are the memeory effiecient it stores the one value at the time .Even generatores can handle the large dataset\n",
        "Generatore simplyfying the code perfomance and memory usage.\n",
        "'''"
      ],
      "metadata": {
        "id": "kPKLrmC4Bltv"
      },
      "execution_count": null,
      "outputs": []
    },
    {
      "cell_type": "code",
      "source": [
        "'''\n",
        "Q 8)  What is a lambda function in Python and when is it typically used?\n",
        "\n",
        "Ans) A lambda function is a small, anonymous function in Python that can take any number of arguments, but can only have one expression.\n",
        " It's a shorthand way to define a simple function without declaring a named function. Lambda function makes coding more precise ,no noeed to\n",
        " declare the name\n",
        "'''\n",
        "\n",
        "double = lambda x: x * 2\n",
        "\n",
        "print(double(5))"
      ],
      "metadata": {
        "colab": {
          "base_uri": "https://localhost:8080/"
        },
        "id": "gIiN89JsCGRV",
        "outputId": "faad0342-8c08-4e96-f4f4-809d77c7249b"
      },
      "execution_count": 17,
      "outputs": [
        {
          "output_type": "stream",
          "name": "stdout",
          "text": [
            "10\n"
          ]
        }
      ]
    },
    {
      "cell_type": "code",
      "source": [
        "'''\n",
        "Q 9) Explain the purpose and usage of the `map()` function in Python.\n",
        "\n",
        "Ans) The map() function applies a given function to each item of an iterable, such as a list, tuple, or string, and returns a list of the\n",
        "results. This function is useful for data transformation, concise code, and functional programming techniques. It takes two arguments: the\n",
        "function to apply and the iterable to apply it to.\n",
        "\n",
        "'''\n",
        "\n",
        "numbers = [1, 2, 3, 4, 5]\n",
        "squared_numbers = list(map(lambda x: x**2, numbers))\n",
        "print(squared_numbers)"
      ],
      "metadata": {
        "colab": {
          "base_uri": "https://localhost:8080/"
        },
        "id": "BzoSytQrCmDQ",
        "outputId": "2b615a5c-6cf7-4658-c6c2-dfd6fa273a11"
      },
      "execution_count": 18,
      "outputs": [
        {
          "output_type": "stream",
          "name": "stdout",
          "text": [
            "[1, 4, 9, 16, 25]\n"
          ]
        }
      ]
    },
    {
      "cell_type": "code",
      "source": [
        "'''\n",
        "Q 10) What is the difference between `map()`, `reduce()`, and `filter()` functions in Python?\n",
        "\n",
        "Ans) The map() function applies a given function to each item of an iterable, such as a list, tuple, or string, and returns a list of the\n",
        "results. This function is useful for data transformation, concise code, and functional programming techniques.\n",
        "The reduce() Applies a function to the first two items in an iterable, then to the result and the next item, and so on, return a\n",
        " single output values\n",
        "The filter() Applies a function to each item in an iterable and returns only the items for which the function returns True,returns a new iterable\n",
        " with the filtered items, the main purpose of Data filtering, selection\n",
        "'''\n",
        "\n",
        "from functools import reduce\n",
        "\n",
        "numbers = [1, 2, 3, 4, 5]\n",
        "\n",
        "squared_numbers = list(map(lambda x: x**2, numbers))\n",
        "print(squared_numbers)\n",
        "\n",
        "even_numbers = list(filter(lambda x: x % 2 == 0, numbers))\n",
        "print(even_numbers)\n",
        "\n",
        "sum_numbers = reduce(lambda x, y: x + y, numbers)\n",
        "print(sum_numbers)"
      ],
      "metadata": {
        "colab": {
          "base_uri": "https://localhost:8080/"
        },
        "id": "_1SNIgCBD7T8",
        "outputId": "387d5d2d-5b9e-43bb-8471-6312e48f2356"
      },
      "execution_count": 19,
      "outputs": [
        {
          "output_type": "stream",
          "name": "stdout",
          "text": [
            "[1, 4, 9, 16, 25]\n",
            "[2, 4]\n",
            "15\n"
          ]
        }
      ]
    }
  ]
}